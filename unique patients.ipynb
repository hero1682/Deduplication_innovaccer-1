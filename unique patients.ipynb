{
 "cells": [
  {
   "cell_type": "code",
   "execution_count": 4,
   "metadata": {},
   "outputs": [
    {
     "name": "stdout",
     "output_type": "stream",
     "text": [
      "37\n",
      "['fn', '  dob   ', '    G    ', '  ln   ']\n",
      "['ASBY JR', '01/03/68', 'F', 'WILLIAM']\n",
      "['HOUGHTON JR', '07/10/37', 'M', 'HAROLD']\n",
      "['MELVIN JR', '07/10/37', 'M', 'HAROLD']\n",
      "['MELVIN JR', '07/10/37', 'M', 'HAROLD']\n",
      "['MELVIN JR', '07/10/37', 'M', 'HAROLD']\n",
      "['MELVIN JR', '07/10/37', 'M', 'HAROLD']\n",
      "['MELVIN JR', '07/10/37', 'M', 'HAROLD']\n",
      "['MELVIN JR', '07/10/37', 'M', 'HAROLD']\n",
      "['MELVIN JR', '07/10/37', 'M', 'HAROLD']\n",
      "['MELVIN JR', '07/10/37', 'M', 'HAROLD']\n",
      "['MELVIN JR', '07/10/37', 'M', 'HAROLD']\n",
      "['CHAVAS JR', '07/10/37', 'M', 'HAROLD']\n",
      "['CHAVAS JR', '07/10/37', 'M', 'HAROLD']\n",
      "['CHAVAS JR', '07/10/37', 'M', 'HAROLD']\n",
      "['CHAVAS JR', '07/10/37', 'M', 'HAROLD']\n",
      "['CHAVAS JR', '07/10/37', 'M', 'HAROLD']\n",
      "['CHAVAS JR', '07/10/37', 'M', 'HAROLD']\n",
      "['FAGEN JR', '07/10/37', 'M', 'HAROLD']\n",
      "['FAGEN JR', '07/10/37', 'M', 'HAROLD']\n",
      "['FAGEN JR', '07/10/37', 'M', 'GEORGE']\n",
      "['GRIFFIN JR', '07/10/37', 'M', 'DARH']\n",
      "['MICHAELSON JR', '16/12/44', 'M', 'JOHN']\n",
      "['MICHAELSON JR', '16/12/44', 'M', 'JOHN']\n",
      "['MICHAELSON JR', '16/12/44', 'M', 'JOHN']\n",
      "['SHAFFER JR', '21/02/62', 'F', 'WILLIAM']\n",
      "['SHAFFER JR', '21/02/62', 'F', 'WILLIAM']\n",
      "['SHAFFER JR', '25/10/53', 'F', 'WILLIAM']\n",
      "['DUNCAN JR', '25/10/53', 'F', 'THOMAS']\n",
      "['DUNCAN JR', '25/10/53', 'F', 'ROY']\n",
      "['MICHAELSON', '25/10/53', 'M', 'ROY']\n",
      "['MICHAELSON JR', '25/10/53', 'M', 'ROY']\n",
      "['MICHAELSON', '25/10/53', 'M', 'ROY']\n",
      "['MICHAELSON JR', '25/10/53', 'M', 'ROY']\n",
      "['LIND JR', '31/01/46', 'M', 'LAWRENCE']\n",
      "['LIND JR', '31/01/46', 'M', 'LAWRENCE']\n",
      "['LIND JR', '31/01/46', 'M', 'KENNETH']\n",
      "['LIND JR', '31/01/46', 'M', 'KENNETH']\n"
     ]
    }
   ],
   "source": [
    "import csv \n",
    "import numpy as np\n",
    "f=open('data.csv')\n",
    "r=csv.reader(f)\n",
    "a=[]\n",
    "d=[]\n",
    "\n",
    "for row in r:        #iterate through the rows of the csv file \n",
    "    a.append(row[1])\n",
    "b,i=np.unique(a, return_index=True)\n",
    "for k in b:   # iterate through unique date of birth \n",
    "    c=[]\n",
    "    f=open('data.csv')\n",
    "    r=csv.reader(f)\n",
    "    for row in r:\n",
    "        if (row[1]==k):\n",
    "            c.append(row)\n",
    "    fn =c[0][0]\n",
    "    fn1=c[0][3]\n",
    "    for m in c:            # loop for comparison of irst name and last name \n",
    "        if fn in m[0][0] or m[0][0] in fn and fn1 in m[0][3] or m[0][3] in fn:\n",
    "            if len(m[0])<len(fn):\n",
    "                fn=m[0][0]\n",
    "            if len(m[0])<len(fn):\n",
    "                fn1=m[0][3]\n",
    "        else :\n",
    "            d.append(m) \n",
    "print(len(d))\n",
    "g=['fn' ,  '  dob   ','    G    ','  ln   ']\n",
    "d.insert(0,g)\n",
    "print(*d, sep='\\n')  # print unique patient details "
   ]
  },
  {
   "cell_type": "code",
   "execution_count": null,
   "metadata": {
    "collapsed": true
   },
   "outputs": [],
   "source": []
  }
 ],
 "metadata": {
  "kernelspec": {
   "display_name": "Python 3",
   "language": "python",
   "name": "python3"
  },
  "language_info": {
   "codemirror_mode": {
    "name": "ipython",
    "version": 3
   },
   "file_extension": ".py",
   "mimetype": "text/x-python",
   "name": "python",
   "nbconvert_exporter": "python",
   "pygments_lexer": "ipython3",
   "version": "3.6.3"
  }
 },
 "nbformat": 4,
 "nbformat_minor": 2
}
