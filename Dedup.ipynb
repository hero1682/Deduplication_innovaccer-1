{
 "cells": [
  {
   "cell_type": "code",
   "execution_count": 23,
   "metadata": {},
   "outputs": [],
   "source": [
    "#initialization\n",
    "import recordlinkage\n",
    "import pandas as pd\n",
    "import datetime\n",
    "\n",
    "dfA = pd.read_csv('Deduplication Problem - Sample Dataset.csv')\n",
    "dfA.head()\n",
    "dfA['dob'] = pd.to_datetime(dfA['dob'], format = '%d/%m/%y')"
   ]
  },
  {
   "cell_type": "code",
   "execution_count": 24,
   "metadata": {},
   "outputs": [],
   "source": [
    "#Indexation step\n",
    "pcl = recordlinkage.BlockIndex(on='fn')\n",
    "groups = pcl.index(dfA)"
   ]
  },
  {
   "cell_type": "code",
   "execution_count": 25,
   "metadata": {},
   "outputs": [
    {
     "data": {
      "text/plain": [
       "<Compare>"
      ]
     },
     "execution_count": 25,
     "metadata": {},
     "output_type": "execute_result"
    }
   ],
   "source": [
    "# Comparison step\n",
    "compare_cl = recordlinkage.Compare()\n",
    "\n",
    "compare_cl.exact('fn', 'fn', label='fn')\n",
    "compare_cl.string('ln', 'ln', method='jarowinkler', threshold=0.85, label='ln')\n",
    "compare_cl.exact('dob', 'dob', label='dob')\n",
    "compare_cl.exact('gn', 'gn', label='gn')"
   ]
  },
  {
   "cell_type": "code",
   "execution_count": 27,
   "metadata": {},
   "outputs": [
    {
     "name": "stdout",
     "output_type": "stream",
     "text": [
      "         fn   ln  dob  gn\n",
      "3   4     1  1.0    1   1\n",
      "5   6     1  1.0    1   1\n",
      "    7     1  1.0    1   1\n",
      "    10    1  1.0    1   1\n",
      "    12    1  1.0    1   1\n",
      "    13    1  1.0    1   1\n",
      "6   7     1  1.0    1   1\n",
      "    10    1  1.0    1   1\n",
      "    12    1  1.0    1   1\n",
      "    13    1  1.0    1   1\n",
      "7   10    1  1.0    1   1\n",
      "    12    1  1.0    1   1\n",
      "    13    1  1.0    1   1\n",
      "8   9     1  1.0    1   1\n",
      "10  12    1  1.0    1   1\n",
      "    13    1  1.0    1   1\n",
      "12  13    1  1.0    1   1\n",
      "14  15    1  1.0    1   1\n",
      "16  17    1  1.0    1   1\n",
      "23  24    1  1.0    1   1\n",
      "    25    1  1.0    1   1\n",
      "    26    1  1.0    1   1\n",
      "24  25    1  1.0    1   1\n",
      "    26    1  1.0    1   1\n",
      "25  26    1  1.0    1   1\n",
      "28  29    1  1.0    1   1\n",
      "35  36    1  1.0    1   1\n",
      "    37    1  1.0    1   1\n",
      "36  37    1  1.0    1   1\n",
      "38  39    1  1.0    1   1\n",
      "...      ..  ...  ...  ..\n",
      "71  74    1  1.0    1   1\n",
      "72  73    1  1.0    1   1\n",
      "    74    1  1.0    1   1\n",
      "73  74    1  1.0    1   1\n",
      "75  76    1  1.0    1   1\n",
      "    77    1  1.0    1   1\n",
      "    78    1  1.0    1   1\n",
      "    82    1  1.0    1   1\n",
      "    83    1  1.0    1   1\n",
      "76  77    1  1.0    1   1\n",
      "    78    1  1.0    1   1\n",
      "    82    1  1.0    1   1\n",
      "    83    1  1.0    1   1\n",
      "77  78    1  1.0    1   1\n",
      "    82    1  1.0    1   1\n",
      "    83    1  1.0    1   1\n",
      "78  82    1  1.0    1   1\n",
      "    83    1  1.0    1   1\n",
      "79  80    1  1.0    1   1\n",
      "82  83    1  1.0    1   1\n",
      "84  85    1  1.0    1   1\n",
      "90  91    1  1.0    1   1\n",
      "    92    1  1.0    1   1\n",
      "91  92    1  1.0    1   1\n",
      "96  97    1  1.0    1   1\n",
      "    98    1  1.0    1   1\n",
      "97  98    1  1.0    1   1\n",
      "100 101   1  1.0    1   1\n",
      "    102   1  1.0    1   1\n",
      "101 102   1  1.0    1   1\n",
      "\n",
      "[105 rows x 4 columns] full_length\n"
     ]
    }
   ],
   "source": [
    "features = compare_cl.compute(groups, dfA)\n",
    "\n",
    "# Classification step\n",
    "matches = features[features.sum(axis=1) > 3]\n",
    "print(matches)"
   ]
  },
  {
   "cell_type": "code",
   "execution_count": 35,
   "metadata": {},
   "outputs": [
    {
     "name": "stdout",
     "output_type": "stream",
     "text": [
      "3    4      1\n",
      "5    6      1\n",
      "     7      1\n",
      "     10     1\n",
      "     12     1\n",
      "     13     1\n",
      "6    7      1\n",
      "     10     1\n",
      "     12     1\n",
      "     13     1\n",
      "7    10     1\n",
      "     12     1\n",
      "     13     1\n",
      "8    9      1\n",
      "10   12     1\n",
      "     13     1\n",
      "12   13     1\n",
      "14   15     1\n",
      "16   17     1\n",
      "23   24     1\n",
      "     25     1\n",
      "     26     1\n",
      "24   25     1\n",
      "     26     1\n",
      "25   26     1\n",
      "28   29     1\n",
      "35   36     1\n",
      "     37     1\n",
      "36   37     1\n",
      "38   39     1\n",
      "           ..\n",
      "71   74     1\n",
      "72   73     1\n",
      "     74     1\n",
      "73   74     1\n",
      "75   76     1\n",
      "     77     1\n",
      "     78     1\n",
      "     82     1\n",
      "     83     1\n",
      "76   77     1\n",
      "     78     1\n",
      "     82     1\n",
      "     83     1\n",
      "77   78     1\n",
      "     82     1\n",
      "     83     1\n",
      "78   82     1\n",
      "     83     1\n",
      "79   80     1\n",
      "82   83     1\n",
      "84   85     1\n",
      "90   91     1\n",
      "     92     1\n",
      "91   92     1\n",
      "96   97     1\n",
      "     98     1\n",
      "97   98     1\n",
      "100  101    1\n",
      "     102    1\n",
      "101  102    1\n",
      "Name: fn, Length: 105, dtype: int64\n"
     ]
    }
   ],
   "source": [
    "indx = matches[matches.columns[0]]\n",
    "print(indx)"
   ]
  },
  {
   "cell_type": "code",
   "execution_count": null,
   "metadata": {},
   "outputs": [],
   "source": []
  }
 ],
 "metadata": {
  "kernelspec": {
   "display_name": "Python 3",
   "language": "python",
   "name": "python3"
  },
  "language_info": {
   "codemirror_mode": {
    "name": "ipython",
    "version": 3
   },
   "file_extension": ".py",
   "mimetype": "text/x-python",
   "name": "python",
   "nbconvert_exporter": "python",
   "pygments_lexer": "ipython3",
   "version": "3.6.4"
  }
 },
 "nbformat": 4,
 "nbformat_minor": 2
}
